{
 "cells": [
  {
   "cell_type": "markdown",
   "metadata": {
    "collapsed": true,
    "pycharm": {
     "name": "#%% md\n"
    }
   },
   "source": [
    "# Import Packages"
   ]
  },
  {
   "cell_type": "code",
   "execution_count": 1,
   "outputs": [],
   "source": [
    "import os"
   ],
   "metadata": {
    "collapsed": false,
    "pycharm": {
     "name": "#%%\n"
    }
   }
  },
  {
   "cell_type": "code",
   "execution_count": 2,
   "outputs": [],
   "source": [
    "import numpy as np\n",
    "import pandas as pd\n",
    "import torch\n",
    "import matplotlib.pyplot as plt"
   ],
   "metadata": {
    "collapsed": false,
    "pycharm": {
     "name": "#%%\n"
    }
   }
  },
  {
   "cell_type": "code",
   "source": [
    "from pyadts.datasets import KPIDataset, MSLDataset"
   ],
   "metadata": {
    "collapsed": false,
    "pycharm": {
     "name": "#%%\n"
    }
   },
   "execution_count": 3,
   "outputs": []
  },
  {
   "cell_type": "markdown",
   "source": [
    "# Datasets"
   ],
   "metadata": {
    "collapsed": false,
    "pycharm": {
     "name": "#%% md\n"
    }
   }
  },
  {
   "cell_type": "markdown",
   "source": [
    "## Loading datasets"
   ],
   "metadata": {
    "collapsed": false,
    "pycharm": {
     "name": "#%% md\n"
    }
   }
  },
  {
   "cell_type": "code",
   "execution_count": 4,
   "outputs": [
    {
     "name": "stderr",
     "output_type": "stream",
     "text": [
      "::LOADING DATA::: 100%|\u001B[36m██████████\u001B[0m| 29/29 [00:11<00:00,  2.48it/s]\n"
     ]
    }
   ],
   "source": [
    "kpi_dataset = KPIDataset(root='tests/data/kpi', download=False)"
   ],
   "metadata": {
    "collapsed": false,
    "pycharm": {
     "name": "#%%\n"
    }
   }
  },
  {
   "cell_type": "code",
   "source": [
    "msl_train_dataset = MSLDataset(root='tests/data/msl', train=True, download=True)\n",
    "msl_test_dataset = MSLDataset(root='tests/data/msl', train=False, download=True)"
   ],
   "metadata": {
    "collapsed": false,
    "pycharm": {
     "name": "#%%\n"
    }
   },
   "execution_count": 5,
   "outputs": [
    {
     "name": "stderr",
     "output_type": "stream",
     "text": [
      "D:\\Workplace\\Pycharm\\PyADTS\\pyadts\\datasets\\msl.py:125: UserWarning: This dataset contains no labels for the training set. Thus all data points will be considered as normal by default!\n",
      "  warnings.warn(\n"
     ]
    },
    {
     "name": "stdout",
     "output_type": "stream",
     "text": [
      "Files are already existed and verified.\n"
     ]
    },
    {
     "name": "stderr",
     "output_type": "stream",
     "text": [
      "::LOADING DATA::: 100%|\u001B[36m██████████\u001B[0m| 27/27 [00:00<00:00, 1928.58it/s]\n"
     ]
    },
    {
     "name": "stdout",
     "output_type": "stream",
     "text": [
      "Files are already existed and verified.\n"
     ]
    },
    {
     "name": "stderr",
     "output_type": "stream",
     "text": [
      "::LOADING DATA::: 100%|\u001B[36m██████████\u001B[0m| 27/27 [00:00<00:00, 1038.39it/s]\n"
     ]
    }
   ]
  },
  {
   "cell_type": "markdown",
   "source": [
    "## Display dataset statistics"
   ],
   "metadata": {
    "collapsed": false,
    "pycharm": {
     "name": "#%% md\n"
    }
   }
  },
  {
   "cell_type": "code",
   "execution_count": 6,
   "outputs": [
    {
     "name": "stdout",
     "output_type": "stream",
     "text": [
      "+-----------+------------+----------+\n",
      "|     ID    | # Channels | # Points |\n",
      "+-----------+------------+----------+\n",
      "|  series-0 |     1      |  149527  |\n",
      "|  series-1 |     1      |   8784   |\n",
      "|  series-2 |     1      |  149527  |\n",
      "|  series-3 |     1      |   8784   |\n",
      "|  series-4 |     1      |  149527  |\n",
      "|  series-5 |     1      |  110694  |\n",
      "|  series-6 |     1      |  131795  |\n",
      "|  series-7 |     1      |  131795  |\n",
      "|  series-8 |     1      |   8928   |\n",
      "|  series-9 |     1      |  149527  |\n",
      "| series-10 |     1      |  131785  |\n",
      "| series-11 |     1      |  131795  |\n",
      "| series-12 |     1      |  149527  |\n",
      "| series-13 |     1      |  149527  |\n",
      "| series-14 |     1      |  131790  |\n",
      "| series-15 |     1      |  149527  |\n",
      "| series-16 |     1      |  149527  |\n",
      "| series-17 |     1      |  110694  |\n",
      "| series-18 |     1      |  111365  |\n",
      "| series-19 |     1      |   8928   |\n",
      "| series-20 |     1      |  12475   |\n",
      "| series-21 |     1      |  149527  |\n",
      "| series-22 |     1      |  149527  |\n",
      "| series-23 |     1      |   8784   |\n",
      "| series-24 |     1      |  149527  |\n",
      "| series-25 |     1      |  108000  |\n",
      "| series-26 |     1      |   8784   |\n",
      "| series-27 |     1      |  131795  |\n",
      "| series-28 |     1      |  131795  |\n",
      "+-----------+------------+----------+\n",
      "+-----------+------------+----------+\n",
      "|     ID    | # Channels | # Points |\n",
      "+-----------+------------+----------+\n",
      "|  series-0 |     55     |   1565   |\n",
      "|  series-1 |     55     |   2209   |\n",
      "|  series-2 |     55     |   2208   |\n",
      "|  series-3 |     55     |   926    |\n",
      "|  series-4 |     55     |   4308   |\n",
      "|  series-5 |     55     |   2272   |\n",
      "|  series-6 |     55     |   2272   |\n",
      "|  series-7 |     55     |   2511   |\n",
      "|  series-8 |     55     |   2037   |\n",
      "|  series-9 |     55     |   2076   |\n",
      "| series-10 |     55     |   2032   |\n",
      "| series-11 |     55     |   3682   |\n",
      "| series-12 |     55     |   2158   |\n",
      "| series-13 |     55     |   764    |\n",
      "| series-14 |     55     |   1145   |\n",
      "| series-15 |     55     |   1145   |\n",
      "| series-16 |     55     |   2244   |\n",
      "| series-17 |     55     |   2598   |\n",
      "| series-18 |     55     |   3675   |\n",
      "| series-19 |     55     |   439    |\n",
      "| series-20 |     55     |   2880   |\n",
      "| series-21 |     55     |   748    |\n",
      "| series-22 |     55     |   3969   |\n",
      "| series-23 |     55     |   2074   |\n",
      "| series-24 |     55     |   1451   |\n",
      "| series-25 |     55     |   1587   |\n",
      "| series-26 |     55     |   3342   |\n",
      "+-----------+------------+----------+\n",
      "+-----------+------------+----------+\n",
      "|     ID    | # Channels | # Points |\n",
      "+-----------+------------+----------+\n",
      "|  series-0 |     55     |   2049   |\n",
      "|  series-1 |     55     |   2277   |\n",
      "|  series-2 |     55     |   2277   |\n",
      "|  series-3 |     55     |   1827   |\n",
      "|  series-4 |     55     |   6100   |\n",
      "|  series-5 |     55     |   2217   |\n",
      "|  series-6 |     55     |   2218   |\n",
      "|  series-7 |     55     |   5054   |\n",
      "|  series-8 |     55     |   2127   |\n",
      "|  series-9 |     55     |   2038   |\n",
      "| series-10 |     55     |   2303   |\n",
      "| series-11 |     55     |   2856   |\n",
      "| series-12 |     55     |   2264   |\n",
      "| series-13 |     55     |   2051   |\n",
      "| series-14 |     55     |   2430   |\n",
      "| series-15 |     55     |   2430   |\n",
      "| series-16 |     55     |   3422   |\n",
      "| series-17 |     55     |   3922   |\n",
      "| series-18 |     55     |   2625   |\n",
      "| series-19 |     55     |   1096   |\n",
      "| series-20 |     55     |   6100   |\n",
      "| series-21 |     55     |   1519   |\n",
      "| series-22 |     55     |   3535   |\n",
      "| series-23 |     55     |   2158   |\n",
      "| series-24 |     55     |   2191   |\n",
      "| series-25 |     55     |   2156   |\n",
      "| series-26 |     55     |   2487   |\n",
      "+-----------+------------+----------+\n"
     ]
    }
   ],
   "source": [
    "# print statistics\n",
    "print(kpi_dataset)\n",
    "print(msl_train_dataset)\n",
    "print(msl_test_dataset)"
   ],
   "metadata": {
    "collapsed": false,
    "pycharm": {
     "name": "#%%\n"
    }
   }
  },
  {
   "cell_type": "code",
   "execution_count": 7,
   "outputs": [
    {
     "name": "stdout",
     "output_type": "stream",
     "text": [
      "29\n",
      "27\n"
     ]
    }
   ],
   "source": [
    "# `len()` will output the number of series\n",
    "print(len(kpi_dataset))\n",
    "print(len(msl_train_dataset))"
   ],
   "metadata": {
    "collapsed": false,
    "pycharm": {
     "name": "#%%\n"
    }
   }
  },
  {
   "cell_type": "code",
   "execution_count": 8,
   "outputs": [
    {
     "data": {
      "text/plain": "        value-0  __label  __timestamp  __anomaly_score  __prediction\n0         35.03        0   1491041280              NaN           NaN\n1         36.60        0   1491041340              NaN           NaN\n2         32.79        0   1491041400              NaN           NaN\n3         34.28        0   1491041460              NaN           NaN\n4         34.69        0   1491041520              NaN           NaN\n...         ...      ...          ...              ...           ...\n149522    36.84        0   1500012600              NaN           NaN\n149523    38.61        0   1500012660              NaN           NaN\n149524    37.42        0   1500012720              NaN           NaN\n149525    37.58        0   1500012780              NaN           NaN\n149526    36.88        0   1500012840              NaN           NaN\n\n[149527 rows x 5 columns]",
      "text/html": "<div>\n<style scoped>\n    .dataframe tbody tr th:only-of-type {\n        vertical-align: middle;\n    }\n\n    .dataframe tbody tr th {\n        vertical-align: top;\n    }\n\n    .dataframe thead th {\n        text-align: right;\n    }\n</style>\n<table border=\"1\" class=\"dataframe\">\n  <thead>\n    <tr style=\"text-align: right;\">\n      <th></th>\n      <th>value-0</th>\n      <th>__label</th>\n      <th>__timestamp</th>\n      <th>__anomaly_score</th>\n      <th>__prediction</th>\n    </tr>\n  </thead>\n  <tbody>\n    <tr>\n      <th>0</th>\n      <td>35.03</td>\n      <td>0</td>\n      <td>1491041280</td>\n      <td>NaN</td>\n      <td>NaN</td>\n    </tr>\n    <tr>\n      <th>1</th>\n      <td>36.60</td>\n      <td>0</td>\n      <td>1491041340</td>\n      <td>NaN</td>\n      <td>NaN</td>\n    </tr>\n    <tr>\n      <th>2</th>\n      <td>32.79</td>\n      <td>0</td>\n      <td>1491041400</td>\n      <td>NaN</td>\n      <td>NaN</td>\n    </tr>\n    <tr>\n      <th>3</th>\n      <td>34.28</td>\n      <td>0</td>\n      <td>1491041460</td>\n      <td>NaN</td>\n      <td>NaN</td>\n    </tr>\n    <tr>\n      <th>4</th>\n      <td>34.69</td>\n      <td>0</td>\n      <td>1491041520</td>\n      <td>NaN</td>\n      <td>NaN</td>\n    </tr>\n    <tr>\n      <th>...</th>\n      <td>...</td>\n      <td>...</td>\n      <td>...</td>\n      <td>...</td>\n      <td>...</td>\n    </tr>\n    <tr>\n      <th>149522</th>\n      <td>36.84</td>\n      <td>0</td>\n      <td>1500012600</td>\n      <td>NaN</td>\n      <td>NaN</td>\n    </tr>\n    <tr>\n      <th>149523</th>\n      <td>38.61</td>\n      <td>0</td>\n      <td>1500012660</td>\n      <td>NaN</td>\n      <td>NaN</td>\n    </tr>\n    <tr>\n      <th>149524</th>\n      <td>37.42</td>\n      <td>0</td>\n      <td>1500012720</td>\n      <td>NaN</td>\n      <td>NaN</td>\n    </tr>\n    <tr>\n      <th>149525</th>\n      <td>37.58</td>\n      <td>0</td>\n      <td>1500012780</td>\n      <td>NaN</td>\n      <td>NaN</td>\n    </tr>\n    <tr>\n      <th>149526</th>\n      <td>36.88</td>\n      <td>0</td>\n      <td>1500012840</td>\n      <td>NaN</td>\n      <td>NaN</td>\n    </tr>\n  </tbody>\n</table>\n<p>149527 rows × 5 columns</p>\n</div>"
     },
     "execution_count": 8,
     "metadata": {},
     "output_type": "execute_result"
    }
   ],
   "source": [
    "# obtain a certain series\n",
    "kpi_dataset[0]"
   ],
   "metadata": {
    "collapsed": false,
    "pycharm": {
     "name": "#%%\n"
    }
   }
  },
  {
   "cell_type": "code",
   "execution_count": 9,
   "outputs": [
    {
     "name": "stdout",
     "output_type": "stream",
     "text": [
      "values:\n",
      " [array([[35.03],\n",
      "       [36.6 ],\n",
      "       [32.79],\n",
      "       ...,\n",
      "       [37.42],\n",
      "       [37.58],\n",
      "       [36.88]]), array([[0.23419107],\n",
      "       [0.23665723],\n",
      "       [0.23088735],\n",
      "       ...,\n",
      "       [0.30778186],\n",
      "       [0.30905991],\n",
      "       [0.30985095]]), array([[33.47],\n",
      "       [32.25],\n",
      "       [31.82],\n",
      "       ...,\n",
      "       [40.15],\n",
      "       [42.76],\n",
      "       [40.1 ]]), array([[0.25493948],\n",
      "       [0.24744402],\n",
      "       [0.23867676],\n",
      "       ...,\n",
      "       [0.27454493],\n",
      "       [0.28080829],\n",
      "       [0.27911797]]), array([[35.11],\n",
      "       [35.67],\n",
      "       [34.34],\n",
      "       ...,\n",
      "       [37.22],\n",
      "       [36.39],\n",
      "       [37.39]]), array([[ 0.  ],\n",
      "       [ 0.  ],\n",
      "       [ 0.  ],\n",
      "       ...,\n",
      "       [24.68],\n",
      "       [24.88],\n",
      "       [24.23]]), array([[2.3125],\n",
      "       [2.75  ],\n",
      "       [2.5625],\n",
      "       ...,\n",
      "       [7.25  ],\n",
      "       [6.875 ],\n",
      "       [7.    ]]), array([[2.70000005],\n",
      "       [3.0999999 ],\n",
      "       [2.79999995],\n",
      "       ...,\n",
      "       [4.69999981],\n",
      "       [5.        ],\n",
      "       [4.8499999 ]]), array([[-0.12653906],\n",
      "       [-0.29511522],\n",
      "       [ 0.21288358],\n",
      "       ...,\n",
      "       [ 0.33324996],\n",
      "       [ 0.0079155 ],\n",
      "       [-0.08898627]]), array([[181.14],\n",
      "       [173.39],\n",
      "       [180.19],\n",
      "       ...,\n",
      "       [136.54],\n",
      "       [136.31],\n",
      "       [141.98]]), array([[0.],\n",
      "       [0.],\n",
      "       [0.],\n",
      "       ...,\n",
      "       [0.],\n",
      "       [0.],\n",
      "       [0.]]), array([[1.04999995],\n",
      "       [1.14999998],\n",
      "       [1.04999995],\n",
      "       ...,\n",
      "       [2.3499999 ],\n",
      "       [1.89999998],\n",
      "       [1.85000002]]), array([[199.34],\n",
      "       [199.73],\n",
      "       [198.11],\n",
      "       ...,\n",
      "       [220.54],\n",
      "       [213.18],\n",
      "       [212.15]]), array([[44.26],\n",
      "       [44.71],\n",
      "       [43.35],\n",
      "       ...,\n",
      "       [58.3 ],\n",
      "       [57.5 ],\n",
      "       [56.05]]), array([[0.],\n",
      "       [0.],\n",
      "       [0.],\n",
      "       ...,\n",
      "       [0.],\n",
      "       [0.],\n",
      "       [0.]]), array([[32.48],\n",
      "       [34.39],\n",
      "       [33.37],\n",
      "       ...,\n",
      "       [40.1 ],\n",
      "       [41.3 ],\n",
      "       [41.22]]), array([[202.72],\n",
      "       [195.17],\n",
      "       [195.63],\n",
      "       ...,\n",
      "       [215.25],\n",
      "       [216.9 ],\n",
      "       [213.31]]), array([[ 0.  ],\n",
      "       [ 0.  ],\n",
      "       [ 0.  ],\n",
      "       ...,\n",
      "       [24.12],\n",
      "       [24.04],\n",
      "       [24.36]]), array([[  0.  ],\n",
      "       [  0.  ],\n",
      "       [  0.  ],\n",
      "       ...,\n",
      "       [109.29],\n",
      "       [112.52],\n",
      "       [109.04]]), array([[-0.20101713],\n",
      "       [-0.28392792],\n",
      "       [-0.10556883],\n",
      "       ...,\n",
      "       [ 0.06114418],\n",
      "       [ 0.45010461],\n",
      "       [ 0.68455361]]), array([[ 0.14361928],\n",
      "       [ 0.08715066],\n",
      "       [ 0.02828213],\n",
      "       ...,\n",
      "       [-1.43492567],\n",
      "       [-1.43467862],\n",
      "       [-1.43563153]]), array([[34.79],\n",
      "       [32.99],\n",
      "       [34.4 ],\n",
      "       ...,\n",
      "       [38.67],\n",
      "       [42.98],\n",
      "       [40.94]]), array([[184.25],\n",
      "       [183.27],\n",
      "       [186.25],\n",
      "       ...,\n",
      "       [140.92],\n",
      "       [142.02],\n",
      "       [138.28]]), array([[0.21605257],\n",
      "       [0.22660808],\n",
      "       [0.21836275],\n",
      "       ...,\n",
      "       [0.28254263],\n",
      "       [0.28493823],\n",
      "       [0.28641645]]), array([[31.3 ],\n",
      "       [32.2 ],\n",
      "       [33.06],\n",
      "       ...,\n",
      "       [41.43],\n",
      "       [43.  ],\n",
      "       [41.98]]), array([[0.01260368],\n",
      "       [0.01778577],\n",
      "       [0.01201359],\n",
      "       ...,\n",
      "       [0.03752979],\n",
      "       [0.02097699],\n",
      "       [0.02137519]]), array([[ 0.84730027],\n",
      "       [-0.03613731],\n",
      "       [ 0.07429238],\n",
      "       ...,\n",
      "       [ 0.62644088],\n",
      "       [ 0.51601118],\n",
      "       [ 0.40558148]]), array([[ 7.0625],\n",
      "       [ 7.0625],\n",
      "       [ 7.375 ],\n",
      "       ...,\n",
      "       [20.875 ],\n",
      "       [21.0625],\n",
      "       [17.6875]]), array([[1.45000005],\n",
      "       [1.79999995],\n",
      "       [1.60000002],\n",
      "       ...,\n",
      "       [3.25      ],\n",
      "       [3.29999995],\n",
      "       [3.29999995]])]\n",
      "timestamps:\n",
      " [array([1491041280, 1491041340, 1491041400, ..., 1500012720, 1500012780,\n",
      "       1500012840], dtype=int64), array([1472918400, 1472918700, 1472919000, ..., 1475552700, 1475553000,\n",
      "       1475553300], dtype=int64), array([1491041280, 1491041340, 1491041400, ..., 1500012720, 1500012780,\n",
      "       1500012840], dtype=int64), array([1474646400, 1474646700, 1474647000, ..., 1477280700, 1477281000,\n",
      "       1477281300], dtype=int64), array([1491041280, 1491041340, 1491041400, ..., 1500012720, 1500012780,\n",
      "       1500012840], dtype=int64), array([1495701180, 1495701240, 1495701300, ..., 1502342640, 1502342700,\n",
      "       1502342760], dtype=int64), array([1493568000, 1493568060, 1493568120, ..., 1501475520, 1501475580,\n",
      "       1501475640], dtype=int64), array([1493568000, 1493568060, 1493568120, ..., 1501475520, 1501475580,\n",
      "       1501475640], dtype=int64), array([1469203200, 1469203500, 1469203800, ..., 1471880700, 1471881000,\n",
      "       1471881300], dtype=int64), array([1491041280, 1491041340, 1491041400, ..., 1500012720, 1500012780,\n",
      "       1500012840], dtype=int64), array([1493568000, 1493568060, 1493568120, ..., 1501474920, 1501474980,\n",
      "       1501475040], dtype=int64), array([1493568000, 1493568060, 1493568120, ..., 1501475520, 1501475580,\n",
      "       1501475640], dtype=int64), array([1491041280, 1491041340, 1491041400, ..., 1500012720, 1500012780,\n",
      "       1500012840], dtype=int64), array([1491041280, 1491041340, 1491041400, ..., 1500012720, 1500012780,\n",
      "       1500012840], dtype=int64), array([1493568000, 1493568060, 1493568120, ..., 1501475220, 1501475280,\n",
      "       1501475340], dtype=int64), array([1491041280, 1491041340, 1491041400, ..., 1500012720, 1500012780,\n",
      "       1500012840], dtype=int64), array([1491041280, 1491041340, 1491041400, ..., 1500012720, 1500012780,\n",
      "       1500012840], dtype=int64), array([1495701180, 1495701240, 1495701300, ..., 1502342640, 1502342700,\n",
      "       1502342760], dtype=int64), array([1495620660, 1495620720, 1495620780, ..., 1502302380, 1502302440,\n",
      "       1502302500], dtype=int64), array([1469203200, 1469203500, 1469203800, ..., 1471880700, 1471881000,\n",
      "       1471881300], dtype=int64), array([1467302400, 1467302700, 1467303000, ..., 1471044000, 1471044300,\n",
      "       1471044600], dtype=int64), array([1491041280, 1491041340, 1491041400, ..., 1500012720, 1500012780,\n",
      "       1500012840], dtype=int64), array([1491041280, 1491041340, 1491041400, ..., 1500012720, 1500012780,\n",
      "       1500012840], dtype=int64), array([1469894400, 1469894700, 1469895000, ..., 1472528700, 1472529000,\n",
      "       1472529300], dtype=int64), array([1491041280, 1491041340, 1491041400, ..., 1500012720, 1500012780,\n",
      "       1500012840], dtype=int64), array([1476460800, 1476460860, 1476460920, ..., 1482940620, 1482940680,\n",
      "       1482940740], dtype=int64), array([1469376000, 1469376300, 1469376600, ..., 1472010300, 1472010600,\n",
      "       1472010900], dtype=int64), array([1493568000, 1493568060, 1493568120, ..., 1501475520, 1501475580,\n",
      "       1501475640], dtype=int64), array([1493568000, 1493568060, 1493568120, ..., 1501475520, 1501475580,\n",
      "       1501475640], dtype=int64)]\n",
      "labels:\n",
      " [array([0, 0, 0, ..., 0, 0, 0]), array([0, 0, 0, ..., 0, 0, 0]), array([0, 0, 0, ..., 0, 0, 0]), array([0, 0, 0, ..., 0, 0, 0]), array([0, 0, 0, ..., 0, 0, 0]), array([0, 0, 0, ..., 0, 0, 0]), array([0, 0, 0, ..., 0, 0, 0]), array([0, 0, 0, ..., 0, 0, 0]), array([0, 0, 0, ..., 0, 0, 0]), array([0, 0, 0, ..., 0, 0, 0]), array([0, 0, 0, ..., 0, 0, 0]), array([0, 0, 0, ..., 0, 0, 0]), array([0, 0, 0, ..., 0, 0, 0]), array([0, 0, 0, ..., 0, 0, 0]), array([0, 0, 0, ..., 0, 0, 0]), array([0, 0, 0, ..., 0, 0, 0]), array([0, 0, 0, ..., 0, 0, 0]), array([0, 0, 0, ..., 0, 0, 0]), array([0, 0, 0, ..., 0, 0, 0]), array([0, 0, 0, ..., 0, 0, 0]), array([0, 0, 0, ..., 0, 0, 0]), array([0, 0, 0, ..., 0, 0, 0]), array([0, 0, 0, ..., 0, 0, 0]), array([0, 0, 0, ..., 0, 0, 0]), array([0, 0, 0, ..., 0, 0, 0]), array([0, 0, 0, ..., 0, 0, 0]), array([0, 0, 0, ..., 0, 0, 0]), array([0, 0, 0, ..., 0, 0, 0]), array([0, 0, 0, ..., 0, 0, 0])]\n",
      "scores:\n",
      " [array([nan, nan, nan, ..., nan, nan, nan]), array([nan, nan, nan, ..., nan, nan, nan]), array([nan, nan, nan, ..., nan, nan, nan]), array([nan, nan, nan, ..., nan, nan, nan]), array([nan, nan, nan, ..., nan, nan, nan]), array([nan, nan, nan, ..., nan, nan, nan]), array([nan, nan, nan, ..., nan, nan, nan]), array([nan, nan, nan, ..., nan, nan, nan]), array([nan, nan, nan, ..., nan, nan, nan]), array([nan, nan, nan, ..., nan, nan, nan]), array([nan, nan, nan, ..., nan, nan, nan]), array([nan, nan, nan, ..., nan, nan, nan]), array([nan, nan, nan, ..., nan, nan, nan]), array([nan, nan, nan, ..., nan, nan, nan]), array([nan, nan, nan, ..., nan, nan, nan]), array([nan, nan, nan, ..., nan, nan, nan]), array([nan, nan, nan, ..., nan, nan, nan]), array([nan, nan, nan, ..., nan, nan, nan]), array([nan, nan, nan, ..., nan, nan, nan]), array([nan, nan, nan, ..., nan, nan, nan]), array([nan, nan, nan, ..., nan, nan, nan]), array([nan, nan, nan, ..., nan, nan, nan]), array([nan, nan, nan, ..., nan, nan, nan]), array([nan, nan, nan, ..., nan, nan, nan]), array([nan, nan, nan, ..., nan, nan, nan]), array([nan, nan, nan, ..., nan, nan, nan]), array([nan, nan, nan, ..., nan, nan, nan]), array([nan, nan, nan, ..., nan, nan, nan]), array([nan, nan, nan, ..., nan, nan, nan])]\n",
      "predictions:\n",
      " [array([nan, nan, nan, ..., nan, nan, nan]), array([nan, nan, nan, ..., nan, nan, nan]), array([nan, nan, nan, ..., nan, nan, nan]), array([nan, nan, nan, ..., nan, nan, nan]), array([nan, nan, nan, ..., nan, nan, nan]), array([nan, nan, nan, ..., nan, nan, nan]), array([nan, nan, nan, ..., nan, nan, nan]), array([nan, nan, nan, ..., nan, nan, nan]), array([nan, nan, nan, ..., nan, nan, nan]), array([nan, nan, nan, ..., nan, nan, nan]), array([nan, nan, nan, ..., nan, nan, nan]), array([nan, nan, nan, ..., nan, nan, nan]), array([nan, nan, nan, ..., nan, nan, nan]), array([nan, nan, nan, ..., nan, nan, nan]), array([nan, nan, nan, ..., nan, nan, nan]), array([nan, nan, nan, ..., nan, nan, nan]), array([nan, nan, nan, ..., nan, nan, nan]), array([nan, nan, nan, ..., nan, nan, nan]), array([nan, nan, nan, ..., nan, nan, nan]), array([nan, nan, nan, ..., nan, nan, nan]), array([nan, nan, nan, ..., nan, nan, nan]), array([nan, nan, nan, ..., nan, nan, nan]), array([nan, nan, nan, ..., nan, nan, nan]), array([nan, nan, nan, ..., nan, nan, nan]), array([nan, nan, nan, ..., nan, nan, nan]), array([nan, nan, nan, ..., nan, nan, nan]), array([nan, nan, nan, ..., nan, nan, nan]), array([nan, nan, nan, ..., nan, nan, nan]), array([nan, nan, nan, ..., nan, nan, nan])]\n"
     ]
    }
   ],
   "source": [
    "# built-in properties\n",
    "print('values:\\n', kpi_dataset.values)\n",
    "print('timestamps:\\n', kpi_dataset.timestamps)\n",
    "print('labels:\\n', kpi_dataset.labels)\n",
    "print('scores:\\n', kpi_dataset.scores)\n",
    "print('predictions:\\n', kpi_dataset.predictions)"
   ],
   "metadata": {
    "collapsed": false,
    "pycharm": {
     "name": "#%%\n"
    }
   }
  },
  {
   "cell_type": "code",
   "execution_count": 10,
   "outputs": [
    {
     "name": "stdout",
     "output_type": "stream",
     "text": [
      "shape:\n",
      " (3073567, 1)\n",
      "num_series:\n",
      " 29\n",
      "num_points:\n",
      " 3073567\n",
      "num_channels:\n",
      " 1\n"
     ]
    }
   ],
   "source": [
    "# built-in properties\n",
    "print('shape:\\n', kpi_dataset.shape)\n",
    "print('num_series:\\n', kpi_dataset.num_series)\n",
    "print('num_points:\\n', kpi_dataset.num_points)\n",
    "print('num_channels:\\n', kpi_dataset.num_channels)"
   ],
   "metadata": {
    "collapsed": false,
    "pycharm": {
     "name": "#%%\n"
    }
   }
  },
  {
   "cell_type": "markdown",
   "source": [
    "## Dataset conversion"
   ],
   "metadata": {
    "collapsed": false,
    "pycharm": {
     "name": "#%% md\n"
    }
   }
  },
  {
   "cell_type": "markdown",
   "source": [
    "The conversion of `TimeSeriesDataset` will concatenate all series along the channel dimension."
   ],
   "metadata": {
    "collapsed": false,
    "pycharm": {
     "name": "#%% md\n"
    }
   }
  },
  {
   "cell_type": "code",
   "execution_count": 11,
   "outputs": [
    {
     "name": "stdout",
     "output_type": "stream",
     "text": [
      "(3073567, 1)\n"
     ]
    }
   ],
   "source": [
    "kpi_numpy = kpi_dataset.to_numpy()\n",
    "print(kpi_numpy.shape)"
   ],
   "metadata": {
    "collapsed": false,
    "pycharm": {
     "name": "#%%\n"
    }
   }
  },
  {
   "cell_type": "code",
   "execution_count": 12,
   "outputs": [
    {
     "name": "stdout",
     "output_type": "stream",
     "text": [
      "torch.Size([3073567, 1])\n"
     ]
    }
   ],
   "source": [
    "kpi_tensor = kpi_dataset.to_tensor()\n",
    "print(kpi_tensor.shape)"
   ],
   "metadata": {
    "collapsed": false,
    "pycharm": {
     "name": "#%%\n"
    }
   }
  },
  {
   "cell_type": "code",
   "execution_count": 13,
   "outputs": [
    {
     "name": "stdout",
     "output_type": "stream",
     "text": [
      "(307080, 100, 1)\n"
     ]
    }
   ],
   "source": [
    "kpi_numpy_window = kpi_dataset.to_numpy(window_size=100, stride=10)\n",
    "print(kpi_numpy_window.shape)"
   ],
   "metadata": {
    "collapsed": false,
    "pycharm": {
     "name": "#%%\n"
    }
   }
  },
  {
   "cell_type": "code",
   "execution_count": 14,
   "outputs": [
    {
     "name": "stdout",
     "output_type": "stream",
     "text": [
      "(58317, 55)\n"
     ]
    }
   ],
   "source": [
    "msl_numpy = msl_train_dataset.to_numpy()\n",
    "print(msl_numpy.shape)"
   ],
   "metadata": {
    "collapsed": false,
    "pycharm": {
     "name": "#%%\n"
    }
   }
  },
  {
   "cell_type": "code",
   "execution_count": 15,
   "outputs": [
    {
     "name": "stdout",
     "output_type": "stream",
     "text": [
      "torch.Size([58317, 55])\n"
     ]
    }
   ],
   "source": [
    "msl_tensor = msl_train_dataset.to_tensor()\n",
    "print(msl_tensor.shape)"
   ],
   "metadata": {
    "collapsed": false,
    "pycharm": {
     "name": "#%%\n"
    }
   }
  },
  {
   "cell_type": "code",
   "execution_count": 16,
   "outputs": [
    {
     "name": "stdout",
     "output_type": "stream",
     "text": [
      "torch.Size([1071, 200, 55])\n"
     ]
    }
   ],
   "source": [
    "msl_tensor_window = msl_train_dataset.to_tensor(window_size=200, stride=50)\n",
    "print(msl_tensor_window.shape)"
   ],
   "metadata": {
    "collapsed": false,
    "pycharm": {
     "name": "#%%\n"
    }
   }
  },
  {
   "cell_type": "markdown",
   "source": [
    "## Visualization"
   ],
   "metadata": {
    "collapsed": false,
    "pycharm": {
     "name": "#%% md\n"
    }
   }
  },
  {
   "cell_type": "markdown",
   "source": [
    "### Show original series"
   ],
   "metadata": {
    "collapsed": false,
    "pycharm": {
     "name": "#%% md\n"
    }
   }
  },
  {
   "cell_type": "code",
   "source": [
    "fig = kpi_dataset.plot(series_id=0, channel_id=0, show_ground_truth=False, show_prediction=False)\n",
    "fig.show()"
   ],
   "metadata": {
    "collapsed": false,
    "pycharm": {
     "name": "#%%\n"
    }
   },
   "execution_count": 17,
   "outputs": [
    {
     "name": "stderr",
     "output_type": "stream",
     "text": [
      "C:\\Users\\larry\\AppData\\Local\\Temp/ipykernel_416/1065714367.py:2: UserWarning: Matplotlib is currently using module://matplotlib_inline.backend_inline, which is a non-GUI backend, so cannot show the figure.\n",
      "  fig.show()\n"
     ]
    },
    {
     "data": {
      "text/plain": "<Figure size 1080x576 with 1 Axes>",
      "image/png": "[encoded data removed]"
     },
     "metadata": {},
     "output_type": "display_data"
    }
   ]
  },
  {
   "cell_type": "markdown",
   "source": [
    "# Preprocessing"
   ],
   "metadata": {
    "collapsed": false,
    "pycharm": {
     "name": "#%% md\n"
    }
   }
  },
  {
   "cell_type": "markdown",
   "source": [
    "## Validate timestamps and missing value filling"
   ],
   "metadata": {
    "collapsed": false,
    "pycharm": {
     "name": "#%% md\n"
    }
   }
  },
  {
   "cell_type": "markdown",
   "source": [
    "## Normalization"
   ],
   "metadata": {
    "collapsed": false,
    "pycharm": {
     "name": "#%% md\n"
    }
   }
  },
  {
   "cell_type": "markdown",
   "source": [
    "## Simple splitting"
   ],
   "metadata": {
    "collapsed": false,
    "pycharm": {
     "name": "#%% md\n"
    }
   }
  },
  {
   "cell_type": "markdown",
   "source": [
    "## Cross validation"
   ],
   "metadata": {
    "collapsed": false,
    "pycharm": {
     "name": "#%% md\n"
    }
   }
  },
  {
   "cell_type": "code",
   "execution_count": null,
   "outputs": [],
   "source": [],
   "metadata": {
    "collapsed": false,
    "pycharm": {
     "name": "#%%\n"
    }
   }
  }
 ],
 "metadata": {
  "kernelspec": {
   "display_name": "Python 3",
   "language": "python",
   "name": "python3"
  },
  "language_info": {
   "codemirror_mode": {
    "name": "ipython",
    "version": 2
   },
   "file_extension": ".py",
   "mimetype": "text/x-python",
   "name": "python",
   "nbconvert_exporter": "python",
   "pygments_lexer": "ipython2",
   "version": "2.7.6"
  }
 },
 "nbformat": 4,
 "nbformat_minor": 0
}