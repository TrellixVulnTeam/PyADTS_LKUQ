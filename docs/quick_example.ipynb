{
 "cells": [
  {
   "cell_type": "markdown",
   "source": [
    "# A Quick Example"
   ],
   "metadata": {
    "collapsed": false,
    "pycharm": {
     "name": "#%% md\n"
    }
   }
  },
  {
   "cell_type": "markdown",
   "source": [
    "## Loading Datasets"
   ],
   "metadata": {
    "collapsed": false,
    "pycharm": {
     "name": "#%% md\n"
    }
   }
  },
  {
   "cell_type": "code",
   "execution_count": null,
   "outputs": [],
   "source": [
    "from pyadts.datasets import MSLDataset"
   ],
   "metadata": {
    "collapsed": false,
    "pycharm": {
     "name": "#%%\n"
    }
   }
  },
  {
   "cell_type": "code",
   "execution_count": 4,
   "outputs": [
    {
     "name": "stdout",
     "output_type": "stream",
     "text": [
      "Files are already existed and verified.\n"
     ]
    },
    {
     "name": "stderr",
     "output_type": "stream",
     "text": [
      "D:\\Workplace\\Pycharm\\PyADTS\\pyadts\\datasets\\msl.py:124: UserWarning: This dataset contains no labels for the training set. Thus all data points will be considered as normal by default!\n",
      "  warnings.warn(\n"
     ]
    },
    {
     "name": "stdout",
     "output_type": "stream",
     "text": [
      "Files are already existed and verified.\n"
     ]
    }
   ],
   "source": [
    "train_dataset = MSLDataset(root='../tests/data/msl', download=True, train=True)\n",
    "test_dataset = MSLDataset(root='../tests/data/msl', download=True, train=False)"
   ],
   "metadata": {
    "collapsed": false,
    "pycharm": {
     "name": "#%%\n"
    }
   }
  },
  {
   "cell_type": "code",
   "execution_count": 5,
   "outputs": [
    {
     "name": "stdout",
     "output_type": "stream",
     "text": [
      "+-----------+------------+----------+\n",
      "|     ID    | # Channels | # Points |\n",
      "+-----------+------------+----------+\n",
      "|  series-0 |     55     |   1565   |\n",
      "|  series-1 |     55     |   2209   |\n",
      "|  series-2 |     55     |   2208   |\n",
      "|  series-3 |     55     |   926    |\n",
      "|  series-4 |     55     |   4308   |\n",
      "|  series-5 |     55     |   2272   |\n",
      "|  series-6 |     55     |   2272   |\n",
      "|  series-7 |     55     |   2511   |\n",
      "|  series-8 |     55     |   2037   |\n",
      "|  series-9 |     55     |   2076   |\n",
      "| series-10 |     55     |   2032   |\n",
      "| series-11 |     55     |   3682   |\n",
      "| series-12 |     55     |   2158   |\n",
      "| series-13 |     55     |   764    |\n",
      "| series-14 |     55     |   1145   |\n",
      "| series-15 |     55     |   1145   |\n",
      "| series-16 |     55     |   2244   |\n",
      "| series-17 |     55     |   2598   |\n",
      "| series-18 |     55     |   3675   |\n",
      "| series-19 |     55     |   439    |\n",
      "| series-20 |     55     |   2880   |\n",
      "| series-21 |     55     |   748    |\n",
      "| series-22 |     55     |   3969   |\n",
      "| series-23 |     55     |   2074   |\n",
      "| series-24 |     55     |   1451   |\n",
      "| series-25 |     55     |   1587   |\n",
      "| series-26 |     55     |   3342   |\n",
      "+-----------+------------+----------+\n"
     ]
    }
   ],
   "source": [
    "print(train_dataset)"
   ],
   "metadata": {
    "collapsed": false,
    "pycharm": {
     "name": "#%%\n"
    }
   }
  },
  {
   "cell_type": "markdown",
   "source": [
    "## Model Definition"
   ],
   "metadata": {
    "collapsed": false,
    "pycharm": {
     "name": "#%% md\n"
    }
   }
  },
  {
   "cell_type": "code",
   "execution_count": 6,
   "outputs": [],
   "source": [
    "from pyadts.detectors import IForest"
   ],
   "metadata": {
    "collapsed": false,
    "pycharm": {
     "name": "#%%\n"
    }
   }
  },
  {
   "cell_type": "code",
   "source": [
    "model = IForest()"
   ],
   "metadata": {
    "collapsed": false,
    "pycharm": {
     "name": "#%%\n"
    }
   },
   "execution_count": 7,
   "outputs": []
  },
  {
   "cell_type": "markdown",
   "source": [
    "## Training"
   ],
   "metadata": {
    "collapsed": false,
    "pycharm": {
     "name": "#%% md\n"
    }
   }
  },
  {
   "cell_type": "code",
   "execution_count": 8,
   "outputs": [],
   "source": [
    "model.fit(train_dataset)"
   ],
   "metadata": {
    "collapsed": false,
    "pycharm": {
     "name": "#%%\n"
    }
   }
  },
  {
   "cell_type": "markdown",
   "source": [
    "## Evaluation"
   ],
   "metadata": {
    "collapsed": false,
    "pycharm": {
     "name": "#%% md\n"
    }
   }
  },
  {
   "cell_type": "code",
   "execution_count": 11,
   "outputs": [],
   "source": [
    "from pyadts.evaluation.metrics import roc_auc"
   ],
   "metadata": {
    "collapsed": false,
    "pycharm": {
     "name": "#%%\n"
    }
   }
  },
  {
   "cell_type": "code",
   "execution_count": 9,
   "outputs": [],
   "source": [
    "y_pred = model.score(test_dataset)"
   ],
   "metadata": {
    "collapsed": false,
    "pycharm": {
     "name": "#%%\n"
    }
   }
  },
  {
   "cell_type": "code",
   "execution_count": 12,
   "outputs": [],
   "source": [
    "score = roc_auc(y_pred, test_dataset.targets())"
   ],
   "metadata": {
    "collapsed": false,
    "pycharm": {
     "name": "#%%\n"
    }
   }
  },
  {
   "cell_type": "code",
   "execution_count": 14,
   "outputs": [
    {
     "name": "stdout",
     "output_type": "stream",
     "text": [
      "AUROC: 0.4024770338379749\n"
     ]
    }
   ],
   "source": [
    "print('AUROC:', score)"
   ],
   "metadata": {
    "collapsed": false,
    "pycharm": {
     "name": "#%%\n"
    }
   }
  },
  {
   "cell_type": "code",
   "execution_count": null,
   "outputs": [],
   "source": [],
   "metadata": {
    "collapsed": false,
    "pycharm": {
     "name": "#%%\n"
    }
   }
  }
 ],
 "metadata": {
  "kernelspec": {
   "display_name": "Python 3",
   "language": "python",
   "name": "python3"
  },
  "language_info": {
   "codemirror_mode": {
    "name": "ipython",
    "version": 2
   },
   "file_extension": ".py",
   "mimetype": "text/x-python",
   "name": "python",
   "nbconvert_exporter": "python",
   "pygments_lexer": "ipython2",
   "version": "2.7.6"
  }
 },
 "nbformat": 4,
 "nbformat_minor": 0
}